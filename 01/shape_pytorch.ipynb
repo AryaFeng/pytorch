{
 "cells": [
  {
   "cell_type": "code",
   "execution_count": 2,
   "metadata": {},
   "outputs": [],
   "source": [
    "import torch\n",
    "import timeit"
   ]
  },
  {
   "cell_type": "code",
   "execution_count": 3,
   "metadata": {},
   "outputs": [
    {
     "name": "stdout",
     "output_type": "stream",
     "text": [
      "tensor(..., device='meta', size=(2, 5, 9, 9), grad_fn=<ConvolutionBackward0>)\n",
      "time taken :0.011735800000010954\n"
     ]
    }
   ],
   "source": [
    "t = torch.rand(2,3,10,10,device='meta')\n",
    "conv = torch.nn.Conv2d(3,5,2,device='meta')\n",
    "\n",
    "start= timeit.default_timer()\n",
    "out = conv(t)\n",
    "end = timeit.default_timer()\n",
    "print(out)\n",
    "print(f\"time taken :{end-start}\")"
   ]
  }
 ],
 "metadata": {
  "kernelspec": {
   "display_name": "feng",
   "language": "python",
   "name": "python3"
  },
  "language_info": {
   "codemirror_mode": {
    "name": "ipython",
    "version": 3
   },
   "file_extension": ".py",
   "mimetype": "text/x-python",
   "name": "python",
   "nbconvert_exporter": "python",
   "pygments_lexer": "ipython3",
   "version": "3.9.13"
  }
 },
 "nbformat": 4,
 "nbformat_minor": 2
}

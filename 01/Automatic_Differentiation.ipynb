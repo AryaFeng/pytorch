{
 "cells": [
  {
   "cell_type": "code",
   "execution_count": 1,
   "metadata": {},
   "outputs": [],
   "source": [
    "import torch\n",
    "import torch.nn as nn\n"
   ]
  },
  {
   "cell_type": "code",
   "execution_count": 2,
   "metadata": {},
   "outputs": [],
   "source": [
    "x = torch.ones(5)\n",
    "y = torch.zeros(3)\n",
    "w = torch.randn((5,3),requires_grad=True)\n",
    "b = torch.randn(3,requires_grad=True)\n",
    "z = torch.matmul(x,w)+b\n",
    "# 预测和真实值之间进行计算loss\n",
    "loss =  nn.functional.binary_cross_entropy_with_logits(z,y)"
   ]
  },
  {
   "cell_type": "code",
   "execution_count": 3,
   "metadata": {},
   "outputs": [
    {
     "name": "stdout",
     "output_type": "stream",
     "text": [
      "Gradient function for z = <AddBackward0 object at 0x0000019768498AC0>\n",
      "Gradient function for loss = <BinaryCrossEntropyWithLogitsBackward0 object at 0x0000019768498F10>\n"
     ]
    }
   ],
   "source": [
    "print(f\"Gradient function for z = {z.grad_fn}\")\n",
    "print(f\"Gradient function for loss = {loss.grad_fn}\")"
   ]
  },
  {
   "cell_type": "code",
   "execution_count": 4,
   "metadata": {},
   "outputs": [
    {
     "name": "stdout",
     "output_type": "stream",
     "text": [
      "tensor([[0.1673, 0.0211, 0.1228],\n",
      "        [0.1673, 0.0211, 0.1228],\n",
      "        [0.1673, 0.0211, 0.1228],\n",
      "        [0.1673, 0.0211, 0.1228],\n",
      "        [0.1673, 0.0211, 0.1228]])\n",
      "tensor([0.1673, 0.0211, 0.1228])\n"
     ]
    }
   ],
   "source": [
    "loss.backward()\n",
    "print(w.grad)\n",
    "print(b.grad)"
   ]
  },
  {
   "cell_type": "markdown",
   "metadata": {},
   "source": [
    "pytorch会自动的保存一些tensor，以便在反向求导的时候进行计算"
   ]
  },
  {
   "cell_type": "code",
   "execution_count": 8,
   "metadata": {},
   "outputs": [
    {
     "name": "stdout",
     "output_type": "stream",
     "text": [
      "True\n",
      "True\n"
     ]
    }
   ],
   "source": [
    "x = torch.randn(5,requires_grad=True)\n",
    "y = x.pow(2)\n",
    "\n",
    "print(x.equal(y.grad_fn._saved_self))\n",
    "print(x is y.grad_fn._saved_self)"
   ]
  },
  {
   "cell_type": "markdown",
   "metadata": {},
   "source": [
    "并不是所有的梯度中保存的值和输入有关，要看求导之后的东西。"
   ]
  },
  {
   "cell_type": "markdown",
   "metadata": {},
   "source": [
    "# 对于不可微分的函数的梯度\n",
    "对于relu，在0点是不可导的，因此，需要进行定义\n",
    "\n",
    "禁用梯度计算，有多种方式，如no-grad或者inference mode，细粒度的控制可以使用required_grad=false 等。\n",
    "其中。nn.Module.eval()并不禁用梯度的计算。\n",
    "\n",
    "required_grad_也可以应用到module，这样整个module下面的所有的参数都是具有梯度计算的。"
   ]
  },
  {
   "cell_type": "code",
   "execution_count": 4,
   "metadata": {},
   "outputs": [
    {
     "name": "stdout",
     "output_type": "stream",
     "text": [
      "(tensor([2., 2., 2., 2., 2.]),)\n"
     ]
    }
   ],
   "source": [
    "import torch\n",
    "X = torch.ones(5,requires_grad=True)\n",
    "y = sum(X.pow(2))\n",
    "\n",
    "# autograd可以直接计算在X处输入的地方的对X的导数值\n",
    "res = torch.autograd.grad(y,X)\n",
    "print(res)"
   ]
  }
 ],
 "metadata": {
  "kernelspec": {
   "display_name": "feng",
   "language": "python",
   "name": "python3"
  },
  "language_info": {
   "codemirror_mode": {
    "name": "ipython",
    "version": 3
   },
   "file_extension": ".py",
   "mimetype": "text/x-python",
   "name": "python",
   "nbconvert_exporter": "python",
   "pygments_lexer": "ipython3",
   "version": "3.9.13"
  }
 },
 "nbformat": 4,
 "nbformat_minor": 2
}

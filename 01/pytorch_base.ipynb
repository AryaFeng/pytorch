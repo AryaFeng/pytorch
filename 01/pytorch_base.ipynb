{
  "cells": [
    {
      "cell_type": "markdown",
      "metadata": {
        "colab_type": "text",
        "id": "view-in-github"
      },
      "source": [
        "<a href=\"https://colab.research.google.com/github/AryaFeng/pytorch/blob/main/01/pytorch_base.ipynb\" target=\"_parent\"><img src=\"https://colab.research.google.com/assets/colab-badge.svg\" alt=\"Open In Colab\"/></a>"
      ]
    },
    {
      "cell_type": "code",
      "execution_count": 2,
      "metadata": {
        "id": "hUY52Nksp3St"
      },
      "outputs": [],
      "source": [
        "import torch\n",
        "from torch import nn\n",
        "from torch.utils.data import DataLoader\n",
        "from torchvision import datasets\n",
        "from torchvision.transforms import ToTensor"
      ]
    },
    {
      "cell_type": "markdown",
      "metadata": {
        "id": "-314sbj9taXH"
      },
      "source": [
        "# pytorch 同时也提供了torchtext,torchVision,torchAudio的数据集\n",
        "\n",
        "其中torchvision.datasets模块红有一个类Dataset,包含了很多的数据集，如CIFAR，COCO等。每一个TorchVision包含了两个参数，transoform和target_transform用来调整修改样本和标签。例如进行裁剪等"
      ]
    },
    {
      "cell_type": "code",
      "execution_count": 6,
      "metadata": {
        "colab": {
          "base_uri": "https://localhost:8080/"
        },
        "id": "pveU-ki2tnI9",
        "outputId": "cf7a4ad7-b828-4ddf-f764-c862fcfcf5a2"
      },
      "outputs": [
        {
          "name": "stdout",
          "output_type": "stream",
          "text": [
            "Downloading http://fashion-mnist.s3-website.eu-central-1.amazonaws.com/train-images-idx3-ubyte.gz\n",
            "Using downloaded and verified file: data\\FashionMNIST\\raw\\train-images-idx3-ubyte.gz\n",
            "Extracting data\\FashionMNIST\\raw\\train-images-idx3-ubyte.gz to data\\FashionMNIST\\raw\n",
            "\n",
            "Downloading http://fashion-mnist.s3-website.eu-central-1.amazonaws.com/train-labels-idx1-ubyte.gz\n",
            "Using downloaded and verified file: data\\FashionMNIST\\raw\\train-labels-idx1-ubyte.gz\n",
            "Extracting data\\FashionMNIST\\raw\\train-labels-idx1-ubyte.gz to data\\FashionMNIST\\raw\n",
            "\n",
            "Downloading http://fashion-mnist.s3-website.eu-central-1.amazonaws.com/t10k-images-idx3-ubyte.gz\n",
            "Downloading http://fashion-mnist.s3-website.eu-central-1.amazonaws.com/t10k-images-idx3-ubyte.gz to data\\FashionMNIST\\raw\\t10k-images-idx3-ubyte.gz\n"
          ]
        },
        {
          "name": "stderr",
          "output_type": "stream",
          "text": [
            "100%|██████████| 4422102/4422102 [00:04<00:00, 886964.45it/s] \n"
          ]
        },
        {
          "name": "stdout",
          "output_type": "stream",
          "text": [
            "Extracting data\\FashionMNIST\\raw\\t10k-images-idx3-ubyte.gz to data\\FashionMNIST\\raw\n",
            "\n",
            "Downloading http://fashion-mnist.s3-website.eu-central-1.amazonaws.com/t10k-labels-idx1-ubyte.gz\n",
            "Downloading http://fashion-mnist.s3-website.eu-central-1.amazonaws.com/t10k-labels-idx1-ubyte.gz to data\\FashionMNIST\\raw\\t10k-labels-idx1-ubyte.gz\n"
          ]
        },
        {
          "name": "stderr",
          "output_type": "stream",
          "text": [
            "100%|██████████| 5148/5148 [00:00<00:00, 11491.26it/s]"
          ]
        },
        {
          "name": "stdout",
          "output_type": "stream",
          "text": [
            "Extracting data\\FashionMNIST\\raw\\t10k-labels-idx1-ubyte.gz to data\\FashionMNIST\\raw\n",
            "\n"
          ]
        },
        {
          "name": "stderr",
          "output_type": "stream",
          "text": [
            "\n"
          ]
        }
      ],
      "source": [
        "# download dataset\n",
        "train_data = datasets.FashionMNIST(\n",
        "    root='data',\n",
        "    train=True,\n",
        "    download=True,\n",
        "    transform=ToTensor(),\n",
        ")\n",
        "# download test\n",
        "test_data = datasets.FashionMNIST(\n",
        "    root='data',\n",
        "    train=False,\n",
        "    download=True,\n",
        "    transform=ToTensor(),\n",
        ")"
      ]
    },
    {
      "cell_type": "markdown",
      "metadata": {
        "id": "ysEmaxjwuy5H"
      },
      "source": [
        "Dataset会作为参数传递给DataLoader，Dataloader支持自动批量、采样、打乱、多线程数据加载。"
      ]
    },
    {
      "cell_type": "code",
      "execution_count": 7,
      "metadata": {
        "colab": {
          "base_uri": "https://localhost:8080/"
        },
        "id": "JVXik5HauwH9",
        "outputId": "57fe0646-bbca-437b-8e5a-5e16b837730f"
      },
      "outputs": [
        {
          "name": "stdout",
          "output_type": "stream",
          "text": [
            "shapeof X [N,C,,H,W]:torch.Size([64, 1, 28, 28])\n",
            "shapeof y :torch.Size([64]) torch.int64\n"
          ]
        }
      ],
      "source": [
        "batch_size = 64\n",
        "\n",
        "train_dataloader = DataLoader(train_data,batch_size=batch_size)\n",
        "test_dataloader = DataLoader(test_data,batch_size=batch_size)\n",
        "\n",
        "for X,y in test_dataloader:\n",
        "  print(f\"shapeof X [N,C,,H,W]:{X.shape}\")\n",
        "  print(f\"shapeof y :{y.shape} {y.dtype}\")\n",
        "  break"
      ]
    },
    {
      "cell_type": "markdown",
      "metadata": {
        "id": "gb_kI3P2vvGJ"
      },
      "source": [
        "创建模型"
      ]
    },
    {
      "cell_type": "code",
      "execution_count": 9,
      "metadata": {
        "colab": {
          "base_uri": "https://localhost:8080/"
        },
        "id": "G86-ZfmZvw0l",
        "outputId": "903e0e9c-aa5c-4d3c-d413-3ab399fb437a"
      },
      "outputs": [
        {
          "name": "stdout",
          "output_type": "stream",
          "text": [
            "cuda\n",
            "NerualNetwork(\n",
            "  (flatten): Flatten(start_dim=1, end_dim=-1)\n",
            "  (linear_relu_stack): Sequential(\n",
            "    (0): Linear(in_features=784, out_features=512, bias=True)\n",
            "    (1): ReLU()\n",
            "    (2): Linear(in_features=512, out_features=512, bias=True)\n",
            "    (3): ReLU()\n",
            "    (4): Linear(in_features=512, out_features=10, bias=True)\n",
            "  )\n",
            ")\n"
          ]
        }
      ],
      "source": [
        "device =( \"cuda\" if torch.cuda.is_available() else \"mps\" if torch.backends.mps.is_available() else \"cpu\" )\n",
        "print(device)\n",
        "\n",
        "\n",
        "# define model\n",
        "class NerualNetwork(nn.Module):\n",
        "  def __init__(self):\n",
        "    # 构造父类\n",
        "    super().__init__()\n",
        "    self.flatten = nn.Flatten()  # 最后一层将图片输入展开式\n",
        "    self.linear_relu_stack = nn.Sequential(\n",
        "      nn.Linear(28*28,512),\n",
        "      nn.ReLU(),\n",
        "      nn.Linear(512,512),\n",
        "      nn.ReLU(),\n",
        "      nn.Linear(512,10)\n",
        "    )\n",
        "  def forward(self,X):\n",
        "    return self.linear_relu_stack(self.flatten(X))\n",
        "  \n",
        "model  = NerualNetwork().to(device)\n",
        "print(model)\n"
      ]
    },
    {
      "cell_type": "code",
      "execution_count": 10,
      "metadata": {},
      "outputs": [],
      "source": [
        "loss_fn = nn.CrossEntropyLoss()\n",
        "optim = torch.optim.Adam(model.parameters(),lr=1e-3)\n"
      ]
    },
    {
      "cell_type": "markdown",
      "metadata": {},
      "source": [
        "定义训练过程，train函数"
      ]
    },
    {
      "cell_type": "code",
      "execution_count": 11,
      "metadata": {},
      "outputs": [],
      "source": [
        "def train(dataloader,model,loss_fn,optim):\n",
        "    size = len(dataloader)\n",
        "    model.train()\n",
        "\n",
        "    for batch,(X,y) in enumerate(dataloader):\n",
        "        X, y = X.to(device),y.to(device)\n",
        "\n",
        "        pred = model(X)\n",
        "        loss = loss_fn(pred,y)\n",
        "\n",
        "        # 反向传播\n",
        "        loss.backward()  # 计算梯度\n",
        "        optim.step()  # 更新梯度\n",
        "        optim.zero_grad()  # 梯度清零\n",
        "\n",
        "        if batch % 100 == 0:\n",
        "            loss,current =loss.item(),batch*len(X)\n",
        "            print(f\"loss:{loss:>7f} [{current:>5d}/{size:>5d}]\")"
      ]
    },
    {
      "cell_type": "code",
      "execution_count": 13,
      "metadata": {},
      "outputs": [],
      "source": [
        "def test(dataloader, model, loss_fn):\n",
        "    size = len(dataloader.dataset)\n",
        "    num_batches = len(dataloader)\n",
        "    model.eval()  # 保证不进行梯度计算\n",
        "    test_loss, correct = 0, 0\n",
        "    with torch.no_grad():\n",
        "        for X, y in dataloader:\n",
        "            X, y = X.to(device), y.to(device)\n",
        "            pred = model(X)\n",
        "            test_loss += loss_fn(pred, y).item()\n",
        "            correct += (pred.argmax(1) == y).type(torch.float).sum().item()\n",
        "    test_loss /= num_batches\n",
        "    correct /= size\n",
        "    print(f\"Test Error: \\n Accuracy: {(100*correct):>0.1f}%, Avg loss: {test_loss:>8f} \\n\")"
      ]
    },
    {
      "cell_type": "code",
      "execution_count": 16,
      "metadata": {},
      "outputs": [
        {
          "name": "stdout",
          "output_type": "stream",
          "text": [
            "Epoch 1\n",
            "-------------------------------\n",
            "loss:2.296803 [    0/  938]\n",
            "loss:0.557012 [ 6400/  938]\n",
            "loss:0.389327 [12800/  938]\n",
            "loss:0.481581 [19200/  938]\n",
            "loss:0.470126 [25600/  938]\n",
            "loss:0.424260 [32000/  938]\n",
            "loss:0.384273 [38400/  938]\n",
            "loss:0.530346 [44800/  938]\n",
            "loss:0.462053 [51200/  938]\n",
            "loss:0.523176 [57600/  938]\n",
            "Test Error: \n",
            " Accuracy: 84.7%, Avg loss: 0.420285 \n",
            "\n",
            "Epoch 2\n",
            "-------------------------------\n",
            "loss:0.274579 [    0/  938]\n",
            "loss:0.372377 [ 6400/  938]\n",
            "loss:0.274577 [12800/  938]\n",
            "loss:0.393451 [19200/  938]\n",
            "loss:0.432758 [25600/  938]\n",
            "loss:0.344004 [32000/  938]\n",
            "loss:0.342018 [38400/  938]\n",
            "loss:0.495209 [44800/  938]\n",
            "loss:0.382036 [51200/  938]\n",
            "loss:0.441435 [57600/  938]\n",
            "Test Error: \n",
            " Accuracy: 85.4%, Avg loss: 0.393177 \n",
            "\n",
            "Epoch 3\n",
            "-------------------------------\n",
            "loss:0.222284 [    0/  938]\n",
            "loss:0.343352 [ 6400/  938]\n",
            "loss:0.219261 [12800/  938]\n",
            "loss:0.350780 [19200/  938]\n",
            "loss:0.405983 [25600/  938]\n",
            "loss:0.324971 [32000/  938]\n",
            "loss:0.294264 [38400/  938]\n",
            "loss:0.466380 [44800/  938]\n",
            "loss:0.344747 [51200/  938]\n",
            "loss:0.385396 [57600/  938]\n",
            "Test Error: \n",
            " Accuracy: 86.0%, Avg loss: 0.375975 \n",
            "\n",
            "Epoch 4\n",
            "-------------------------------\n",
            "loss:0.213606 [    0/  938]\n",
            "loss:0.295340 [ 6400/  938]\n",
            "loss:0.213383 [12800/  938]\n",
            "loss:0.274257 [19200/  938]\n",
            "loss:0.347791 [25600/  938]\n",
            "loss:0.314923 [32000/  938]\n",
            "loss:0.265788 [38400/  938]\n",
            "loss:0.364284 [44800/  938]\n",
            "loss:0.308999 [51200/  938]\n",
            "loss:0.310724 [57600/  938]\n",
            "Test Error: \n",
            " Accuracy: 86.2%, Avg loss: 0.371346 \n",
            "\n",
            "Epoch 5\n",
            "-------------------------------\n",
            "loss:0.221436 [    0/  938]\n",
            "loss:0.263134 [ 6400/  938]\n",
            "loss:0.191350 [12800/  938]\n",
            "loss:0.253304 [19200/  938]\n",
            "loss:0.350668 [25600/  938]\n",
            "loss:0.292843 [32000/  938]\n",
            "loss:0.287185 [38400/  938]\n",
            "loss:0.330174 [44800/  938]\n",
            "loss:0.285115 [51200/  938]\n",
            "loss:0.311233 [57600/  938]\n",
            "Test Error: \n",
            " Accuracy: 87.1%, Avg loss: 0.355689 \n",
            "\n",
            "Done!\n"
          ]
        }
      ],
      "source": [
        "epochs = 5\n",
        "for t in range(epochs):\n",
        "    print(f\"Epoch {t+1}\\n-------------------------------\")\n",
        "    train(train_dataloader, model, loss_fn, optim)\n",
        "    test(test_dataloader, model, loss_fn)\n",
        "print(\"Done!\")"
      ]
    },
    {
      "cell_type": "code",
      "execution_count": 17,
      "metadata": {},
      "outputs": [
        {
          "name": "stdout",
          "output_type": "stream",
          "text": [
            "Saved PyTorch Model State to model.pth\n"
          ]
        }
      ],
      "source": [
        "torch.save(model.state_dict(), \"model.pth\")\n",
        "print(\"Saved PyTorch Model State to model.pth\")"
      ]
    },
    {
      "cell_type": "code",
      "execution_count": 18,
      "metadata": {},
      "outputs": [
        {
          "data": {
            "text/plain": [
              "<All keys matched successfully>"
            ]
          },
          "execution_count": 18,
          "metadata": {},
          "output_type": "execute_result"
        }
      ],
      "source": [
        "model = NerualNetwork().to(device)\n",
        "model.load_state_dict(torch.load(\"model.pth\"))"
      ]
    },
    {
      "cell_type": "code",
      "execution_count": 19,
      "metadata": {},
      "outputs": [
        {
          "name": "stdout",
          "output_type": "stream",
          "text": [
            "Predicted: \"Ankle boot\", Actual: \"Ankle boot\"\n"
          ]
        }
      ],
      "source": [
        "classes = [\n",
        "    \"T-shirt/top\",\n",
        "    \"Trouser\",\n",
        "    \"Pullover\",\n",
        "    \"Dress\",\n",
        "    \"Coat\",\n",
        "    \"Sandal\",\n",
        "    \"Shirt\",\n",
        "    \"Sneaker\",\n",
        "    \"Bag\",\n",
        "    \"Ankle boot\",\n",
        "]\n",
        "\n",
        "model.eval()\n",
        "x, y = test_data[0][0], test_data[0][1]   # testdata[0]是一个元组，第一个元素是图片，第二个元素是标签\n",
        "with torch.no_grad():\n",
        "    x = x.to(device)\n",
        "    pred = model(x)\n",
        "    predicted, actual = classes[pred[0].argmax(0)], classes[y]\n",
        "    print(f'Predicted: \"{predicted}\", Actual: \"{actual}\"')"
      ]
    }
  ],
  "metadata": {
    "accelerator": "GPU",
    "colab": {
      "authorship_tag": "ABX9TyNkVkV1Aj0os7tiGV800B3U",
      "gpuType": "T4",
      "include_colab_link": true,
      "provenance": []
    },
    "kernelspec": {
      "display_name": "Python 3",
      "name": "python3"
    },
    "language_info": {
      "codemirror_mode": {
        "name": "ipython",
        "version": 3
      },
      "file_extension": ".py",
      "mimetype": "text/x-python",
      "name": "python",
      "nbconvert_exporter": "python",
      "pygments_lexer": "ipython3",
      "version": "3.9.13"
    }
  },
  "nbformat": 4,
  "nbformat_minor": 0
}
